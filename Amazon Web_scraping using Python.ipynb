{
 "cells": [
  {
   "cell_type": "code",
   "execution_count": 1,
   "id": "862564e2",
   "metadata": {},
   "outputs": [],
   "source": [
    "from bs4 import BeautifulSoup\n",
    "import requests\n",
    "import time\n",
    "import datetime\n",
    "\n",
    "# below sending email to yourself\n",
    "import smtplib"
   ]
  },
  {
   "cell_type": "code",
   "execution_count": 2,
   "id": "ed0b7da7",
   "metadata": {},
   "outputs": [],
   "source": [
    "# web scraping used to create dataset"
   ]
  },
  {
   "cell_type": "code",
   "execution_count": 3,
   "id": "45bb54cc",
   "metadata": {},
   "outputs": [],
   "source": [
    "# project: get data from each page from amazon for a search"
   ]
  },
  {
   "cell_type": "code",
   "execution_count": 4,
   "id": "fe152f97",
   "metadata": {},
   "outputs": [],
   "source": [
    "# import requests\n",
    "\n",
    "# response = requests.get('https://www.example.com')\n",
    "# user_agent = response.request.headers['User-Agent']\n",
    "# print(user_agent)"
   ]
  },
  {
   "cell_type": "code",
   "execution_count": 16,
   "id": "73e1bed6",
   "metadata": {},
   "outputs": [],
   "source": [
    "# we need to tell from where we need data from\n",
    "# connect to website\n",
    "url='https://www.amazon.ae/SQL-Guide-John-Hales/dp/1572229160/ref=sr_1_1?crid=KBWHXP76J4NY&keywords=sql+books&qid=1692348471&sprefix=sql+book%2Caps%2C391&sr=8-1'\n",
    "\n",
    "# headers are for user agents, you need to do this for your computers\n",
    "\n",
    "headers = {\"User-Agent\": \"Mozilla/5.0 (Macintosh; Intel Mac OS X 10_15_7) AppleWebKit/605.1.15 (KHTML, like Gecko) Version/16.4 Safari/605.1.15\", \n",
    "           \"Accept-Encoding\":\"gzip, deflate\", \n",
    "           \"Accept\":\"text/html,application/xhtml+xml,application/xml;q=0.9,*/*;q=0.8\", \n",
    "           \"DNT\":\"1\",\n",
    "           \"Connection\":\"close\", \n",
    "           \"Upgrade-Insecure-Requests\":\"1\"}\n",
    "\n",
    "page=requests.get(url, headers=headers)\n",
    "\n",
    "soup1=BeautifulSoup(page.content,'html.parser')\n",
    "time.sleep(10)\n",
    "# to make things look better\n",
    "soup2=BeautifulSoup(soup1.prettify(),'html.parser')\n"
   ]
  },
  {
   "cell_type": "code",
   "execution_count": 17,
   "id": "ba6d03f5",
   "metadata": {},
   "outputs": [
    {
     "name": "stdout",
     "output_type": "stream",
     "text": [
      "<span class=\"a-size-extra-large celwidget\" id=\"productTitle\">\n",
      "            SQL Guide\n",
      "           </span>\n"
     ]
    }
   ],
   "source": [
    "r=soup2.find(id='productTitle')\n",
    "print(r)"
   ]
  },
  {
   "cell_type": "code",
   "execution_count": 18,
   "id": "7b444314",
   "metadata": {},
   "outputs": [],
   "source": [
    "title=soup2.find(id='productTitle').get_text()"
   ]
  },
  {
   "cell_type": "code",
   "execution_count": 19,
   "id": "edc97749",
   "metadata": {},
   "outputs": [],
   "source": [
    "title=title.strip()"
   ]
  },
  {
   "cell_type": "code",
   "execution_count": 20,
   "id": "2788d7fa",
   "metadata": {},
   "outputs": [],
   "source": [
    "author=soup2.find(class_=\"author notFaded\").get_text().strip()\n",
    "#formatted_author = author.replace('\\n           \\n\\n\\n', ' ')\n",
    "formatted_author = ' '.join(author.split()).replace('(Author)','').strip()\n",
    "#splits the string into a list of words, removing any newline characters.\n",
    "#Then, ' '.join(...) joins the list of words back together with a single space between each word, effectively removing any extra whitespace"
   ]
  },
  {
   "cell_type": "code",
   "execution_count": 21,
   "id": "248bdc50",
   "metadata": {},
   "outputs": [],
   "source": [
    "price_text=soup2.find(class_=\"a-size-base a-color-price a-color-price\").get_text().strip()"
   ]
  },
  {
   "cell_type": "code",
   "execution_count": 22,
   "id": "43f526c9",
   "metadata": {},
   "outputs": [],
   "source": [
    "formatted_price = price_text.replace('AED\\xa0', ' ').strip()"
   ]
  },
  {
   "cell_type": "code",
   "execution_count": 23,
   "id": "8dd51bc8",
   "metadata": {},
   "outputs": [
    {
     "data": {
      "text/plain": [
       "'37.21'"
      ]
     },
     "execution_count": 23,
     "metadata": {},
     "output_type": "execute_result"
    }
   ],
   "source": [
    "formatted_price"
   ]
  },
  {
   "cell_type": "code",
   "execution_count": 24,
   "id": "fd21506d",
   "metadata": {},
   "outputs": [
    {
     "data": {
      "text/plain": [
       "'John Hales'"
      ]
     },
     "execution_count": 24,
     "metadata": {},
     "output_type": "execute_result"
    }
   ],
   "source": [
    "formatted_author"
   ]
  },
  {
   "cell_type": "code",
   "execution_count": 25,
   "id": "800a843b",
   "metadata": {},
   "outputs": [],
   "source": [
    "rating=soup2.find(class_='a-icon-alt').get_text().strip()\n",
    "rating=rating.split()[0]"
   ]
  },
  {
   "cell_type": "code",
   "execution_count": 26,
   "id": "608ca29a",
   "metadata": {},
   "outputs": [
    {
     "name": "stdout",
     "output_type": "stream",
     "text": [
      "SQL Guide\n",
      "John Hales\n",
      "37.21\n",
      "4.5\n"
     ]
    }
   ],
   "source": [
    "print(title)\n",
    "print(formatted_author)\n",
    "print(formatted_price)\n",
    "print(rating)"
   ]
  },
  {
   "cell_type": "code",
   "execution_count": 27,
   "id": "4e0bc0c2",
   "metadata": {},
   "outputs": [
    {
     "name": "stdout",
     "output_type": "stream",
     "text": [
      "2023-08-18\n"
     ]
    }
   ],
   "source": [
    "today=datetime.date.today()\n",
    "print(today)"
   ]
  },
  {
   "cell_type": "code",
   "execution_count": 50,
   "id": "1f8d4b32",
   "metadata": {},
   "outputs": [],
   "source": [
    "# put it into csv file\n",
    "import csv\n",
    "\n",
    "header_csv=['Book_Title','Author','Rating','Price','Date']\n",
    "data=[title,formatted_author,rating,formatted_price,today]\n",
    "\n",
    "#our data is list\n",
    "# create csv\n",
    "# with open (filename,'w',newline='', encoding='UTF8')\n",
    "# newline: all that does is when we insert the datait doesn't have a space between each csv\n",
    "# overrate the data evrytime we are running\n",
    "\n",
    "#with open('AmazonwebScraperDataset.csv','w',newline='',encoding='UTF8') as f:\n",
    "    #writer=csv.writer(f)\n",
    "    # initial insertion of data, the rest are appending only\n",
    "    #writer.writerow(header_csv)\n",
    "    \n",
    "    #writer.writerow(data)"
   ]
  },
  {
   "cell_type": "code",
   "execution_count": 37,
   "id": "323fc316",
   "metadata": {},
   "outputs": [
    {
     "data": {
      "text/html": [
       "<div>\n",
       "<style scoped>\n",
       "    .dataframe tbody tr th:only-of-type {\n",
       "        vertical-align: middle;\n",
       "    }\n",
       "\n",
       "    .dataframe tbody tr th {\n",
       "        vertical-align: top;\n",
       "    }\n",
       "\n",
       "    .dataframe thead th {\n",
       "        text-align: right;\n",
       "    }\n",
       "</style>\n",
       "<table border=\"1\" class=\"dataframe\">\n",
       "  <thead>\n",
       "    <tr style=\"text-align: right;\">\n",
       "      <th></th>\n",
       "      <th>Book_Title</th>\n",
       "      <th>Author</th>\n",
       "      <th>Rating</th>\n",
       "      <th>Price</th>\n",
       "      <th>Date</th>\n",
       "    </tr>\n",
       "  </thead>\n",
       "  <tbody>\n",
       "    <tr>\n",
       "      <th>0</th>\n",
       "      <td>SQL Guide</td>\n",
       "      <td>John Hales</td>\n",
       "      <td>4.5</td>\n",
       "      <td>37.21</td>\n",
       "      <td>2023-08-18</td>\n",
       "    </tr>\n",
       "  </tbody>\n",
       "</table>\n",
       "</div>"
      ],
      "text/plain": [
       "  Book_Title      Author  Rating  Price        Date\n",
       "0  SQL Guide  John Hales     4.5  37.21  2023-08-18"
      ]
     },
     "execution_count": 37,
     "metadata": {},
     "output_type": "execute_result"
    }
   ],
   "source": [
    "import pandas as pd\n",
    "df=pd.read_csv('AmazonwebScraperDataset.csv')\n",
    "df"
   ]
  },
  {
   "cell_type": "code",
   "execution_count": null,
   "id": "cde8b4ea",
   "metadata": {},
   "outputs": [],
   "source": [
    "# now we are appending data to this\n",
    "# no need of header\n",
    "\n",
    "with open('AmazonwebScraperDataset.csv','a+',newline='',encoding='UTF8') as f:\n",
    "    writer=csv.writer(f)\n",
    "    writer.writerow(data)"
   ]
  },
  {
   "cell_type": "code",
   "execution_count": null,
   "id": "0a8c8b67",
   "metadata": {},
   "outputs": [],
   "source": [
    "def send_mail():\n",
    "    "
   ]
  },
  {
   "cell_type": "code",
   "execution_count": 32,
   "id": "092183f0",
   "metadata": {},
   "outputs": [],
   "source": [
    "# if we want to refresh every day\n",
    "\n",
    "def check_price():\n",
    "    url='https://www.amazon.ae/SQL-Guide-John-Hales/dp/1572229160/ref=sr_1_1?crid=KBWHXP76J4NY&keywords=sql+books&qid=1692348471&sprefix=sql+book%2Caps%2C391&sr=8-1'\n",
    "\n",
    "    # headers are for user agents, you need to do this for your computers\n",
    "\n",
    "    headers = {\"User-Agent\": \"Mozilla/5.0 (Macintosh; Intel Mac OS X 10_15_7) AppleWebKit/605.1.15 (KHTML, like Gecko) Version/16.4 Safari/605.1.15\", \n",
    "           \"Accept-Encoding\":\"gzip, deflate\", \n",
    "           \"Accept\":\"text/html,application/xhtml+xml,application/xml;q=0.9,*/*;q=0.8\", \n",
    "           \"DNT\":\"1\",\n",
    "           \"Connection\":\"close\", \n",
    "           \"Upgrade-Insecure-Requests\":\"1\"}\n",
    "\n",
    "    page=requests.get(url, headers=headers)\n",
    "\n",
    "    soup1=BeautifulSoup(page.content,'html.parser')\n",
    "    time.sleep(10)\n",
    "    soup2=BeautifulSoup(soup1.prettify(),'html.parser')\n",
    "    \n",
    "    title=soup2.find(id='productTitle').get_text().strip()\n",
    "    \n",
    "    price_text=soup2.find(class_=\"a-size-base a-color-price a-color-price\").get_text().strip()\n",
    "    formatted_price = price_text.replace('AED\\xa0', ' ').strip()\n",
    "    \n",
    "    author=soup2.find(class_=\"author notFaded\").get_text().strip()\n",
    "    formatted_author = ' '.join(author.split()).replace('(Author)','').strip()\n",
    "    \n",
    "    rating=soup2.find(class_='a-icon-alt').get_text().strip()\n",
    "    rating=rating.split()[0]\n",
    "    \n",
    "    import datetime\n",
    "    today=datetime.date.today()\n",
    "    \n",
    "    import csv\n",
    "\n",
    "    header_csv=['Book_Title','Author','Rating','Price','Date']\n",
    "    data=[title,formatted_author,rating,formatted_price,today]\n",
    "    \n",
    "    with open('AmazonwebScraperDataset.csv','a+',newline='',encoding='UTF8') as f:\n",
    "        writer=csv.writer(f)\n",
    "        writer.writerow(data)\n",
    "        \n",
    "    if (formatted_price<14):\n",
    "        send_mail()"
   ]
  },
  {
   "cell_type": "code",
   "execution_count": 59,
   "id": "fab46d5a",
   "metadata": {},
   "outputs": [
    {
     "ename": "AttributeError",
     "evalue": "'NoneType' object has no attribute 'get_text'",
     "output_type": "error",
     "traceback": [
      "\u001b[0;31m---------------------------------------------------------------------------\u001b[0m",
      "\u001b[0;31mAttributeError\u001b[0m                            Traceback (most recent call last)",
      "\u001b[0;32m/var/folders/8s/x4lmzqtj2fq39d7ys9tkwpg40000gn/T/ipykernel_55506/3509544619.py\u001b[0m in \u001b[0;36m<module>\u001b[0;34m\u001b[0m\n\u001b[1;32m      1\u001b[0m \u001b[0;32mwhile\u001b[0m\u001b[0;34m(\u001b[0m\u001b[0;32mTrue\u001b[0m\u001b[0;34m)\u001b[0m\u001b[0;34m:\u001b[0m\u001b[0;34m\u001b[0m\u001b[0;34m\u001b[0m\u001b[0m\n\u001b[0;32m----> 2\u001b[0;31m     \u001b[0mcheck_price\u001b[0m\u001b[0;34m(\u001b[0m\u001b[0;34m)\u001b[0m\u001b[0;34m\u001b[0m\u001b[0;34m\u001b[0m\u001b[0m\n\u001b[0m\u001b[1;32m      3\u001b[0m     \u001b[0mtime\u001b[0m\u001b[0;34m.\u001b[0m\u001b[0msleep\u001b[0m\u001b[0;34m(\u001b[0m\u001b[0;36m50\u001b[0m\u001b[0;34m)\u001b[0m\u001b[0;34m\u001b[0m\u001b[0;34m\u001b[0m\u001b[0m\n",
      "\u001b[0;32m/var/folders/8s/x4lmzqtj2fq39d7ys9tkwpg40000gn/T/ipykernel_55506/3957959155.py\u001b[0m in \u001b[0;36mcheck_price\u001b[0;34m()\u001b[0m\n\u001b[1;32m     19\u001b[0m     \u001b[0msoup2\u001b[0m\u001b[0;34m=\u001b[0m\u001b[0mBeautifulSoup\u001b[0m\u001b[0;34m(\u001b[0m\u001b[0msoup1\u001b[0m\u001b[0;34m.\u001b[0m\u001b[0mprettify\u001b[0m\u001b[0;34m(\u001b[0m\u001b[0;34m)\u001b[0m\u001b[0;34m,\u001b[0m\u001b[0;34m'html.parser'\u001b[0m\u001b[0;34m)\u001b[0m\u001b[0;34m\u001b[0m\u001b[0;34m\u001b[0m\u001b[0m\n\u001b[1;32m     20\u001b[0m \u001b[0;34m\u001b[0m\u001b[0m\n\u001b[0;32m---> 21\u001b[0;31m     \u001b[0mtitle\u001b[0m\u001b[0;34m=\u001b[0m\u001b[0msoup2\u001b[0m\u001b[0;34m.\u001b[0m\u001b[0mfind\u001b[0m\u001b[0;34m(\u001b[0m\u001b[0mid\u001b[0m\u001b[0;34m=\u001b[0m\u001b[0;34m'productTitle'\u001b[0m\u001b[0;34m)\u001b[0m\u001b[0;34m.\u001b[0m\u001b[0mget_text\u001b[0m\u001b[0;34m(\u001b[0m\u001b[0;34m)\u001b[0m\u001b[0;34m.\u001b[0m\u001b[0mstrip\u001b[0m\u001b[0;34m(\u001b[0m\u001b[0;34m)\u001b[0m\u001b[0;34m\u001b[0m\u001b[0;34m\u001b[0m\u001b[0m\n\u001b[0m\u001b[1;32m     22\u001b[0m \u001b[0;34m\u001b[0m\u001b[0m\n\u001b[1;32m     23\u001b[0m     \u001b[0mprice_text\u001b[0m\u001b[0;34m=\u001b[0m\u001b[0msoup2\u001b[0m\u001b[0;34m.\u001b[0m\u001b[0mfind\u001b[0m\u001b[0;34m(\u001b[0m\u001b[0mclass_\u001b[0m\u001b[0;34m=\u001b[0m\u001b[0;34m\"a-size-base a-color-price a-color-price\"\u001b[0m\u001b[0;34m)\u001b[0m\u001b[0;34m.\u001b[0m\u001b[0mget_text\u001b[0m\u001b[0;34m(\u001b[0m\u001b[0;34m)\u001b[0m\u001b[0;34m.\u001b[0m\u001b[0mstrip\u001b[0m\u001b[0;34m(\u001b[0m\u001b[0;34m)\u001b[0m\u001b[0;34m\u001b[0m\u001b[0;34m\u001b[0m\u001b[0m\n",
      "\u001b[0;31mAttributeError\u001b[0m: 'NoneType' object has no attribute 'get_text'"
     ]
    }
   ],
   "source": [
    "while(True):\n",
    "    check_price()\n",
    "    time.sleep(50)"
   ]
  },
  {
   "cell_type": "code",
   "execution_count": 36,
   "id": "f1a8f1aa",
   "metadata": {},
   "outputs": [
    {
     "data": {
      "text/html": [
       "<div>\n",
       "<style scoped>\n",
       "    .dataframe tbody tr th:only-of-type {\n",
       "        vertical-align: middle;\n",
       "    }\n",
       "\n",
       "    .dataframe tbody tr th {\n",
       "        vertical-align: top;\n",
       "    }\n",
       "\n",
       "    .dataframe thead th {\n",
       "        text-align: right;\n",
       "    }\n",
       "</style>\n",
       "<table border=\"1\" class=\"dataframe\">\n",
       "  <thead>\n",
       "    <tr style=\"text-align: right;\">\n",
       "      <th></th>\n",
       "      <th>Book_Title</th>\n",
       "      <th>Author</th>\n",
       "      <th>Rating</th>\n",
       "      <th>Price</th>\n",
       "      <th>Date</th>\n",
       "    </tr>\n",
       "  </thead>\n",
       "  <tbody>\n",
       "    <tr>\n",
       "      <th>0</th>\n",
       "      <td>SQL Guide</td>\n",
       "      <td>John Hales</td>\n",
       "      <td>4.5</td>\n",
       "      <td>37.21</td>\n",
       "      <td>2023-08-18</td>\n",
       "    </tr>\n",
       "  </tbody>\n",
       "</table>\n",
       "</div>"
      ],
      "text/plain": [
       "  Book_Title      Author  Rating  Price        Date\n",
       "0  SQL Guide  John Hales     4.5  37.21  2023-08-18"
      ]
     },
     "execution_count": 36,
     "metadata": {},
     "output_type": "execute_result"
    }
   ],
   "source": [
    "df"
   ]
  },
  {
   "cell_type": "code",
   "execution_count": 46,
   "id": "0b84d579",
   "metadata": {},
   "outputs": [
    {
     "data": {
      "text/html": [
       "<div>\n",
       "<style scoped>\n",
       "    .dataframe tbody tr th:only-of-type {\n",
       "        vertical-align: middle;\n",
       "    }\n",
       "\n",
       "    .dataframe tbody tr th {\n",
       "        vertical-align: top;\n",
       "    }\n",
       "\n",
       "    .dataframe thead th {\n",
       "        text-align: right;\n",
       "    }\n",
       "</style>\n",
       "<table border=\"1\" class=\"dataframe\">\n",
       "  <thead>\n",
       "    <tr style=\"text-align: right;\">\n",
       "      <th></th>\n",
       "      <th>Book_Title</th>\n",
       "      <th>Author</th>\n",
       "      <th>Rating</th>\n",
       "      <th>Price</th>\n",
       "      <th>Date</th>\n",
       "    </tr>\n",
       "  </thead>\n",
       "  <tbody>\n",
       "    <tr>\n",
       "      <th>0</th>\n",
       "      <td>SQL Guide</td>\n",
       "      <td>John Hales</td>\n",
       "      <td>4.5</td>\n",
       "      <td>37.21</td>\n",
       "      <td>2023-08-18</td>\n",
       "    </tr>\n",
       "    <tr>\n",
       "      <th>1</th>\n",
       "      <td>SQL Guide</td>\n",
       "      <td>John Hales</td>\n",
       "      <td>4.5</td>\n",
       "      <td>37.21</td>\n",
       "      <td>2023-08-18</td>\n",
       "    </tr>\n",
       "    <tr>\n",
       "      <th>2</th>\n",
       "      <td>SQL Guide</td>\n",
       "      <td>John Hales</td>\n",
       "      <td>4.5</td>\n",
       "      <td>37.21</td>\n",
       "      <td>2023-08-18</td>\n",
       "    </tr>\n",
       "  </tbody>\n",
       "</table>\n",
       "</div>"
      ],
      "text/plain": [
       "  Book_Title      Author  Rating  Price        Date\n",
       "0  SQL Guide  John Hales     4.5  37.21  2023-08-18\n",
       "1  SQL Guide  John Hales     4.5  37.21  2023-08-18\n",
       "2  SQL Guide  John Hales     4.5  37.21  2023-08-18"
      ]
     },
     "execution_count": 46,
     "metadata": {},
     "output_type": "execute_result"
    }
   ],
   "source": [
    "import pandas as pd\n",
    "df=pd.read_csv('AmazonwebScraperDataset.csv')\n",
    "df"
   ]
  },
  {
   "cell_type": "code",
   "execution_count": null,
   "id": "50e6c719",
   "metadata": {},
   "outputs": [],
   "source": []
  }
 ],
 "metadata": {
  "kernelspec": {
   "display_name": "Python 3 (ipykernel)",
   "language": "python",
   "name": "python3"
  },
  "language_info": {
   "codemirror_mode": {
    "name": "ipython",
    "version": 3
   },
   "file_extension": ".py",
   "mimetype": "text/x-python",
   "name": "python",
   "nbconvert_exporter": "python",
   "pygments_lexer": "ipython3",
   "version": "3.9.13"
  }
 },
 "nbformat": 4,
 "nbformat_minor": 5
}
